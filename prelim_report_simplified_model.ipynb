{
 "cells": [
  {
   "cell_type": "markdown",
   "metadata": {},
   "source": [
    "### ECE/CS/ISyE 524 &mdash; Introduction to Optimization &mdash; Spring 2022 ###\n",
    "\n",
    "# Fantasy Football Team Drafting Opt #\n",
    "\n",
    "#### Patrick Schmidt (pwschmidt@wisc.edu), Margaret Shen (mshen42@wisc.edu), Xingpeng Sun(xsun273@wisc.edu)\n",
    "\n",
    "*****\n",
    "\n",
    "### Table of Contents\n",
    "\n",
    "1. [Introduction](#1.-Introduction)\n",
    "1. [Mathematical Model](#2.-Mathematical-model)\n",
    "1. [Data Collected](#3.-Data-Collected)\n",
    "1. [Solution](#4.-Solution)\n",
    "1. [Results and Discussion](#4.-Results-and-discussion)\n",
    "  1. [Optional Subsection](#4.A.-Feel-free-to-add-subsections)\n",
    "1. [Conclusion](#5.-Conclusion)"
   ]
  },
  {
   "cell_type": "markdown",
   "metadata": {},
   "source": [
    "## 1. Introduction ##\n",
    "\n",
    "Fantasy football is a widely played game in America where a set of league “owners” draft actual National Football League players to their fantasy teams and accrue points each week based on the on-field performance of those players. A common format of drafting fantasy teams is the snake draft. This means each owner is randomly given a pick number which is the order they draft in. This order flips for every round of the draft (so the owner that picked last in the previous round picks first in the next round). Our group is trying to use an optimization model to draft the highest scoring fantasy football team possible based on the number of points each player is projected to score at the beginning of the year. This model will be designed to determine the highest value player available for each round of a snake fantasy draft based on the currently available players and the players the team has already drafted.\n",
    "\n",
    "![fixit flowchart][flow]\n",
    "\n",
    "[flow]: https://www.washingtonpost.com/wp-apps/imrs.php?src=https://arc-anglerfish-washpost-prod-washpost.s3.amazonaws.com/public/LLVPM5QCO5GFTB645NOBPMHXPM.jpg&w=1440"
   ]
  },
  {
   "cell_type": "markdown",
   "metadata": {},
   "source": [
    "## 2. Mathematical model ##\n",
    "\n",
    "We are trying to decide which players to draft in order to obtain a team with the highest value (objective). The decision variables of our problem will be a binary decision variable indicating whether or not to draft a certain player on our team. For our constraints we have: 1 kicker, 2 quarterbacks, 5 running backs, 5 wide receivers, 2 tight ends, and 1 defense.\n",
    "\n",
    "\n",
    "LP model:\n",
    "\n",
    "Parameters and variables:\n",
    "\n",
    "$K:$ the points for all kickers;\n",
    "\n",
    "$n_k$: the total number of kickers;\n",
    "\n",
    "$X_k:$ the choice of each kickers, 0 if the player is not selected, 1 if the player is selected;\n",
    "\n",
    "$Q:$ the points for all quarterbacks;\n",
    "\n",
    "$n_k$: the total number of quarterbacks;\n",
    "\n",
    "$X_q:$ the choice of each quarterbacks, 0 if the player is not selected, 1 if the player is selected;\n",
    "\n",
    "$R:$ the points for all running backs;\n",
    "\n",
    "$n_r$: the total number of running backs;\n",
    "\n",
    "$X_r:$ the choice of each running backs, 0 if the player is not selected, 1 if the player is selected;\n",
    "\n",
    "$W:$ the points for all wide receivers;\n",
    "\n",
    "$n_w$: the total number of wide receivers;\n",
    "\n",
    "$X_w:$ the choice of each wide receivers, 0 if the player is not selected, 1 if the player is selected;\n",
    "\n",
    "$T:$ the points for all tight ends;\n",
    "\n",
    "$n_t$: the total number of tight ends;\n",
    "\n",
    "$X_t:$ the choice of each tight ends, 0 if the player is not selected, 1 if the player is selected;\n",
    "\n",
    "$D:$ the points for all defense;\n",
    "\n",
    "$n_d$: the total number of defense;\n",
    "\n",
    "$X_d:$ the choice of each defense, 0 if the player is not selected, 1 if the player is selected;\n",
    "\n",
    "\n",
    "\n",
    "$$\n",
    "\\begin{aligned}\n",
    "\\underset{X_k,X_q,X_r,X_w,X_t,X_d \\in \\mathbb{R^n}}{\\text{max}}\\qquad& \\sum_{i=1}^{i=n_k} K(i)*X_k(i)+ \\sum_{i=1}^{i=n_q}Q(i)*X_q(i)+\\sum_{i=1}^{i=n_r}R(i)*X_r(i)+\\sum_{i=1}^{i=n_w}W(i)*X_w(i)+\\sum_{i=1}^{i=n_t}T(i)*X_t(i)+\\sum_{i=1}^{i=n_d}D(i)*X_d(i)\n",
    "\\\\\n",
    "\\text{subject to:}\\qquad& \\sum_{i=1}^{i=n_i} X_k(i) = 1 \\\\\n",
    "& \\sum_{i=1}^{i=n_q} X_q(i) = 2 \\\\\n",
    "& \\sum_{i=1}^{i=n_r} X_r(i) = 5 \\\\\n",
    "& \\sum_{i=1}^{i=n_w} X_w(i) = 5 \\\\\n",
    "& \\sum_{i=1}^{i=n_t} X_t(i) = 2 \\\\\n",
    "& \\sum_{i=1}^{i=n_d} X_d(i) = 1 \\\\\n",
    "\\end{aligned}\n",
    "$$\n"
   ]
  },
  {
   "cell_type": "markdown",
   "metadata": {},
   "source": [
    "### Variation-1\n",
    "\n",
    "Pick 5 substitute players, so that we have back-up plan if some players injured. This makes our model more realistic.\n",
    "\n",
    "$$\n",
    "\\begin{aligned}\n",
    "\\underset{X_k,X_q,X_r,X_w,X_t,X_d \\in \\mathbb{R^n}}{\\text{max}}\\qquad& \\sum_{i=1}^{i=n_k} K(i)*X_k(i)+ \\sum_{i=1}^{i=n_q}Q(i)*X_q(i)+\\sum_{i=1}^{i=n_r}R(i)*X_r(i)+\\sum_{i=1}^{i=n_w}W(i)*X_w(i)+\\sum_{i=1}^{i=n_t}T(i)*X_t(i)+\\sum_{i=1}^{i=n_d}D(i)*X_d(i)\n",
    "\\\\\n",
    "\\text{subject to:}\\qquad& \\sum_{i=1}^{i=n_i} X_k(i) \\geq 1 \\\\\n",
    "& \\sum_{i=1}^{i=n_q} X_q(i) \\geq 2 \\\\\n",
    "& \\sum_{i=1}^{i=n_r} X_r(i) \\geq 5 \\\\\n",
    "& \\sum_{i=1}^{i=n_w} X_w(i) \\geq 5 \\\\\n",
    "& \\sum_{i=1}^{i=n_t} X_t(i) \\geq 2 \\\\\n",
    "& \\sum_{i=1}^{i=n_d} X_d(i) \\geq 1 \\\\\n",
    "& \\sum_{i=1}^{i=n_q} X_q(i)+\\sum_{i=1}^{i=n_r} X_r(i)+ \\sum_{i=1}^{i=n_w} X_w(i)+ \\sum_{i=1}^{i=n_t} X_t(i)+\\sum_{i=1}^{i=n_d} X_d(i)=16+5 \\\\\n",
    "\\end{aligned}\n",
    "$$"
   ]
  },
  {
   "cell_type": "markdown",
   "metadata": {},
   "source": [
    "## 3. Data Collected ##\n",
    "\n",
    "The data we used in our model was found on Kaggle. It contains ESPN's 2019 fantasy football statistics and 2020 fantasy football player projections. The data is divided into position groups. We used player name and 2020 point projections for our model.\n",
    "\n",
    "To more accurately determine each player's value, we used a metric called value over replacement player (VORP). This metric is used to measure how many points a particular player is predicted contribute to the team over a replacement-level player of the same position. For this application, we used the player that is predicted to be picked last in each position group as the replacement player. Since we are assuming that this draft is for a 10 team league, we chose the the 10th ranked kicker and defense, 20th ranked quarterback and tight end, and the 50th ranked running back and wide receiver as our replacement players. To get each player's VORP, we simply take their 2020 points prediction from ESPN and subtract the points prediction from the replacement-level player in their position group."
   ]
  },
  {
   "cell_type": "markdown",
   "metadata": {},
   "source": [
    "## 4. Solution ##"
   ]
  },
  {
   "cell_type": "markdown",
   "metadata": {},
   "source": [
    "### 4.1 Basic Model Solution"
   ]
  },
  {
   "cell_type": "code",
   "execution_count": 1,
   "metadata": {},
   "outputs": [],
   "source": [
    "using CSV, DataFrames, GLPK, JuMP"
   ]
  },
  {
   "cell_type": "code",
   "execution_count": 7,
   "metadata": {},
   "outputs": [],
   "source": [
    "files = readdir() # read files currently in directory \n",
    "csv_files = [] # create an empty array \n",
    "\n",
    "# identify all .csv files \n",
    "for i in files\n",
    "    if endswith(i,\".csv\")\n",
    "        push!(csv_files, i)\n",
    "    end\n",
    "end\n",
    "\n",
    "# dictionary \n",
    "data = Dict()\n",
    "names = Dict() \n",
    "key = ['D', 'K', 'Q', 'R', 'T', 'W']\n",
    "\n",
    "index = 1\n",
    "for i in csv_files\n",
    "    name = key[index]\n",
    "    data[name] = CSV.read(i, DataFrame)[:,\"2020 VORP\"] # stores point data \n",
    "    names[name] = CSV.read(i, DataFrame)[:,\"PLAYER NAME\"] # stores name data \n",
    "    index += 1\n",
    "end\n",
    "\n",
    "n = Dict() # total number of active players in each position \n",
    "for i in key\n",
    "    n[i] = length(data[i])\n",
    "end\n",
    "\n",
    "num_players = Dict('K' => 1, 'Q' => 2, 'R' => 5, 'W' => 5, 'T' => 2, 'D' => 1)\n",
    ";"
   ]
  },
  {
   "cell_type": "code",
   "execution_count": 8,
   "metadata": {
    "scrolled": false
   },
   "outputs": [],
   "source": [
    "m = Model(with_optimizer(GLPK.Optimizer))\n",
    "\n",
    "# define variables: \n",
    "X = Dict() \n",
    "points = Dict()\n",
    "for i in key\n",
    "    points[i] = @variable(m) # total points for position\n",
    "    for j in 1:n[i]\n",
    "        X[i,j] = @variable(m,binary=true) # binary decision varible (1 = pick player, 0 = dont pick player)\n",
    "    end\n",
    "end\n",
    "\n",
    "# define constraints\n",
    "@constraint(m, [i in key], sum(X[i,j] for j in 1:n[i]) == num_players[i]) # only certian number of players for each pos \n",
    "@constraint(m, [i in key], points[i] == sum(X[i,j]*data[i][j] for j = 1:n[i])) # total points for each position\n",
    "\n",
    "# objective - Maximize total points \n",
    "@objective(m, Max, sum(points[i] for i in key))\n",
    ";"
   ]
  },
  {
   "cell_type": "code",
   "execution_count": 9,
   "metadata": {},
   "outputs": [],
   "source": [
    "optimize!(m)"
   ]
  },
  {
   "cell_type": "code",
   "execution_count": 10,
   "metadata": {},
   "outputs": [
    {
     "data": {
      "text/plain": [
       "1925.1299999999997"
      ]
     },
     "execution_count": 10,
     "metadata": {},
     "output_type": "execute_result"
    }
   ],
   "source": [
    "getobjectivevalue(m)"
   ]
  },
  {
   "cell_type": "code",
   "execution_count": 11,
   "metadata": {},
   "outputs": [
    {
     "name": "stdout",
     "output_type": "stream",
     "text": [
      "position, name, points\n",
      "D,  Steelers D/ST,  29.67\n",
      "K,  Harrison Butker,  14.3\n",
      "Q,  Lamar Jackson,  105.41\n",
      "Q,  Patrick Mahomes,  99.84\n",
      "R,  Christian McCaffrey,  210.6\n",
      "R,  Ezekiel Elliott,  177.41\n",
      "R,  Saquon Barkley,  168.98\n",
      "R,  Dalvin Cook,  168.37\n",
      "R,  Alvin Kamara,  167.04\n",
      "T,  Travis Kelce,  136.71\n",
      "T,  George Kittle,  117.14\n",
      "W,  Michael Thomas,  144.99\n",
      "W,  DeAndre Hopkins,  98.85\n",
      "W,  Julio Jones,  97.5\n",
      "W,  Chris Godwin,  95.38\n",
      "W,  Davante Adams,  92.94\n",
      "\n",
      "total points: 1925.1299999999997\n"
     ]
    }
   ],
   "source": [
    "println(\"position, name, points\")\n",
    "\n",
    "for i in key\n",
    "    for j in 1:n[i]\n",
    "        if value.(X[i,j]) == 1\n",
    "            print(i)\n",
    "            print(\",  \")\n",
    "            print(names[i][j])\n",
    "            print(\",  \")\n",
    "            print(data[i][j])\n",
    "            println()\n",
    "        end\n",
    "    end\n",
    "end\n",
    "\n",
    "println(\"\\ntotal points: \" * string(getobjectivevalue(m)))"
   ]
  },
  {
   "cell_type": "markdown",
   "metadata": {},
   "source": [
    "### 4.2 Variation-1 Solution "
   ]
  },
  {
   "cell_type": "code",
   "execution_count": 12,
   "metadata": {},
   "outputs": [],
   "source": [
    "m = Model(with_optimizer(GLPK.Optimizer))\n",
    "substitute=5\n",
    "# define variables: \n",
    "X = Dict() \n",
    "points = Dict()\n",
    "for i in key\n",
    "    points[i] = @variable(m) # total points for position\n",
    "    for j in 1:n[i]\n",
    "        X[i,j] = @variable(m,binary=true) # binary decision varible (1 = pick player, 0 = dont pick player)\n",
    "    end\n",
    "end\n",
    "\n",
    "# define constraints\n",
    "@constraint(m, [i in key], sum(X[i,j] for j in 1:n[i]) >= num_players[i]) # only certian number of players for each pos \n",
    "@constraint(m, [i in key], sum(sum(X[i,j] for j in 1:n[i]) for i in key) == 16+substitute) # only certian number of players for each pos\n",
    "@constraint(m, [i in key], points[i] == sum(X[i,j]*data[i][j] for j = 1:n[i])) # total points for each position\n",
    "\n",
    "# objective - Maximize total points \n",
    "@objective(m, Max, sum(points[i] for i in key))\n",
    ";"
   ]
  },
  {
   "cell_type": "code",
   "execution_count": 13,
   "metadata": {},
   "outputs": [
    {
     "data": {
      "text/plain": [
       "2537.94"
      ]
     },
     "execution_count": 13,
     "metadata": {},
     "output_type": "execute_result"
    }
   ],
   "source": [
    "optimize!(m)\n",
    "getobjectivevalue(m)"
   ]
  },
  {
   "cell_type": "code",
   "execution_count": 15,
   "metadata": {},
   "outputs": [
    {
     "name": "stdout",
     "output_type": "stream",
     "text": [
      "------------------------------\n",
      "position,   name,     points\n",
      "------------------------------\n",
      "D,  Steelers D/ST,  29.67\n",
      "K,  Harrison Butker,  14.3\n",
      "Q,  Lamar Jackson,  105.41\n",
      "Q,  Patrick Mahomes,  99.84\n",
      "R,  Christian McCaffrey,  210.6\n",
      "R,  Ezekiel Elliott,  177.41\n",
      "R,  Saquon Barkley,  168.98\n",
      "R,  Dalvin Cook,  168.37\n",
      "R,  Alvin Kamara,  167.04\n",
      "R,  Kenyan Drake,  129.88\n",
      "R,  Derrick Henry,  127.35\n",
      "R,  Aaron Jones,  125.88\n",
      "R,  Miles Sanders,  115.43\n",
      "R,  Austin Ekeler,  114.27\n",
      "T,  Travis Kelce,  136.71\n",
      "T,  George Kittle,  117.14\n",
      "W,  Michael Thomas,  144.99\n",
      "W,  DeAndre Hopkins,  98.85\n",
      "W,  Julio Jones,  97.5\n",
      "W,  Chris Godwin,  95.38\n",
      "W,  Davante Adams,  92.94\n",
      "\n",
      "total points: 2537.94\n"
     ]
    }
   ],
   "source": [
    "println(\"------------------------------\")\n",
    "println(\"position,   name,     points\")\n",
    "println(\"------------------------------\")\n",
    "for i in key\n",
    "    for j in 1:n[i]\n",
    "        if value.(X[i,j]) == 1\n",
    "            print(i)\n",
    "            print(\",  \")\n",
    "            print(names[i][j])\n",
    "            print(\",  \")\n",
    "            print(data[i][j])\n",
    "            println()\n",
    "        end\n",
    "    end\n",
    "end\n",
    "\n",
    "println(\"\\ntotal points: \" * string(getobjectivevalue(m)))"
   ]
  },
  {
   "cell_type": "markdown",
   "metadata": {},
   "source": [
    "## 5. Results and discussion ##\n",
    "\n",
    "### Based on our model above, we are able to pick the initial optimal fantasy football team (16 members). The results are: ###\n",
    "\n",
    "\n",
    "| Kicker         | QBs            | RBs                 | WRs            | TEs          | D             |\n",
    "| -------------- |:--------------:|:-------------------:|:--------------:| ------------:| -------------:|\n",
    "| Harrison Butker| Lamar Jackson  | Christian McCaffrey | Michael Thomas | Travis Kelce | Steelers D/ST |\n",
    "|                | Patrick Mahomes| Ezekiel Elliott     | DeAndre Hopkins| George Kittle|               |\n",
    "|                |                | Saquon Barkley      | Julio Jones    |              |               |\n",
    "|                |                | Dalvin Cook         | Chris Godwin   |              |               |\n",
    "|                |                | Alvin Kamara        | Davante Adams  |              |               |\n",
    "\n",
    "### From our evaluation, we see that these players are the players with highest points in our dataset. The team contains 16 players, with 1 kicker, 2 QBs, 5 RBs, 5 WRs, 2 TEs, 1 defenser. Therefore, the result matches our objective and hypothesis well. ###"
   ]
  },
  {
   "cell_type": "markdown",
   "metadata": {},
   "source": [
    "We will add some more contraints and variation to build our new model in next step."
   ]
  },
  {
   "cell_type": "code",
   "execution_count": null,
   "metadata": {},
   "outputs": [],
   "source": []
  }
 ],
 "metadata": {
  "kernelspec": {
   "display_name": "Julia 1.7.2",
   "language": "julia",
   "name": "julia-1.7"
  },
  "language_info": {
   "file_extension": ".jl",
   "mimetype": "application/julia",
   "name": "julia",
   "version": "1.7.2"
  }
 },
 "nbformat": 4,
 "nbformat_minor": 4
}
